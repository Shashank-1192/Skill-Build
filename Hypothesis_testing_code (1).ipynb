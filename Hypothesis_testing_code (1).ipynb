{
 "cells": [
  {
   "cell_type": "code",
   "execution_count": 3,
   "id": "ce2c6d5b",
   "metadata": {},
   "outputs": [],
   "source": [
    "#importing libraries\n",
    "import numpy as np\n",
    "import pandas as pd\n",
    "import scipy.stats as stats\n",
    "import matplotlib.pyplot as plt\n",
    "import math"
   ]
  },
  {
   "cell_type": "code",
   "execution_count": 4,
   "id": "60d43f53",
   "metadata": {},
   "outputs": [],
   "source": [
    "np.random.seed(6)"
   ]
  },
  {
   "cell_type": "code",
   "execution_count": null,
   "id": "aab963d0",
   "metadata": {},
   "outputs": [],
   "source": [
    "# Check whether a sample mean differs from the population mean\n",
    "# create some dummy age data for the population of voters in the entire country and a sample of voters in Kerala\n"
   ]
  },
  {
   "cell_type": "code",
   "execution_count": 11,
   "id": "6ab2f7b9",
   "metadata": {},
   "outputs": [],
   "source": [
    "np.random.seed(6)\n",
    "pop_ages_1=stats.poisson.rvs(loc=18, mu=35, size=150000)\n",
    "pop_ages_2=stats.poisson.rvs(loc=18, mu=10,size=100000)\n",
    "pop_ages=np.concatenate((pop_ages_1,pop_ages_2))\n"
   ]
  },
  {
   "cell_type": "code",
   "execution_count": 18,
   "id": "e0a03225",
   "metadata": {},
   "outputs": [],
   "source": [
    "\n",
    "#creating random samples\n",
    "kerala_ages_1=stats.poisson.rvs(loc=18, mu=30, size=30)\n",
    "kerala_ages_2=stats.poisson.rvs(loc=18, mu=10,size=20)\n",
    "kerala_ages=np.concatenate((kerala_ages_1,kerala_ages_2))\n"
   ]
  },
  {
   "cell_type": "code",
   "execution_count": 19,
   "id": "6e29262d",
   "metadata": {},
   "outputs": [
    {
     "name": "stdout",
     "output_type": "stream",
     "text": [
      "43.000112\n",
      "39.48\n"
     ]
    }
   ],
   "source": [
    "print(pop_ages.mean())\n",
    "print(kerala_ages.mean())"
   ]
  },
  {
   "cell_type": "code",
   "execution_count": 20,
   "id": "d63c13fb",
   "metadata": {},
   "outputs": [],
   "source": [
    "#null hypothesis: sample comes from same distribution as population"
   ]
  },
  {
   "cell_type": "code",
   "execution_count": 21,
   "id": "bbf90730",
   "metadata": {},
   "outputs": [
    {
     "data": {
      "text/plain": [
       "Ttest_1sampResult(statistic=-2.5840557634525374, pvalue=0.012796484188078466)"
      ]
     },
     "execution_count": 21,
     "metadata": {},
     "output_type": "execute_result"
    }
   ],
   "source": [
    "#one sample T-Test\n",
    "stats.ttest_1samp(a=kerala_ages,popmean=pop_ages.mean())"
   ]
  },
  {
   "cell_type": "code",
   "execution_count": 22,
   "id": "17b990cd",
   "metadata": {},
   "outputs": [
    {
     "data": {
      "text/plain": [
       "-2.0095752344892093"
      ]
     },
     "execution_count": 22,
     "metadata": {},
     "output_type": "execute_result"
    }
   ],
   "source": [
    "stats.t.ppf(q=0.025,df=49)"
   ]
  },
  {
   "cell_type": "code",
   "execution_count": 24,
   "id": "45c045d1",
   "metadata": {},
   "outputs": [
    {
     "data": {
      "text/plain": [
       "2.009575234489209"
      ]
     },
     "execution_count": 24,
     "metadata": {},
     "output_type": "execute_result"
    }
   ],
   "source": [
    "stats.t.ppf(q=0.975,df=49)"
   ]
  },
  {
   "cell_type": "code",
   "execution_count": 26,
   "id": "5f18e882",
   "metadata": {},
   "outputs": [
    {
     "data": {
      "text/plain": [
       "0.012798299876822673"
      ]
     },
     "execution_count": 26,
     "metadata": {},
     "output_type": "execute_result"
    }
   ],
   "source": [
    "stats.t.cdf(x=-2.5840, df=49)*2"
   ]
  },
  {
   "cell_type": "code",
   "execution_count": 27,
   "id": "fdf2bc39",
   "metadata": {},
   "outputs": [],
   "source": [
    "sigma=kerala_ages.std()/math.sqrt(50)"
   ]
  },
  {
   "cell_type": "code",
   "execution_count": 29,
   "id": "645c2a47",
   "metadata": {},
   "outputs": [
    {
     "data": {
      "text/plain": [
       "(36.76998366846647, 42.19001633153352)"
      ]
     },
     "execution_count": 29,
     "metadata": {},
     "output_type": "execute_result"
    }
   ],
   "source": [
    "stats.t.interval(0.95,df=49, loc=kerala_ages.mean(), scale=sigma)"
   ]
  },
  {
   "cell_type": "code",
   "execution_count": 30,
   "id": "5dba6ad5",
   "metadata": {},
   "outputs": [
    {
     "data": {
      "text/plain": [
       "(35.865945899600504, 43.09405410039949)"
      ]
     },
     "execution_count": 30,
     "metadata": {},
     "output_type": "execute_result"
    }
   ],
   "source": [
    "stats.t.interval(0.99,df=49, loc=kerala_ages.mean(), scale=sigma)"
   ]
  },
  {
   "cell_type": "code",
   "execution_count": null,
   "id": "38696500",
   "metadata": {},
   "outputs": [],
   "source": [
    "#confidence interval 0.99\n",
    "#significance level as 0.01\n",
    "#p-value: 0.012\n",
    "#we failed to reject the null hypothesis since the pvalue(0.012) is greater than significance level 0.01\n",
    "#we have to accept the null hypothesis as true"
   ]
  },
  {
   "cell_type": "code",
   "execution_count": null,
   "id": "220a6d02",
   "metadata": {},
   "outputs": [],
   "source": [
    "#Two sample T test\n",
    "# A two sample T test investigates whether the means of two independent data samples differ from one another"
   ]
  },
  {
   "cell_type": "code",
   "execution_count": 31,
   "id": "79964fb2",
   "metadata": {},
   "outputs": [],
   "source": [
    "np.random.seed(12)\n",
    "karnataka_ages1=stats.poisson.rvs(loc=18,mu=33, size =30)\n",
    "karnataka_ages2=stats.poisson.rvs(loc=18,mu=13, size =20)\n",
    "karnataka_ages= np.concatenate((karnataka_ages1,karnataka_ages2))"
   ]
  },
  {
   "cell_type": "code",
   "execution_count": 32,
   "id": "3d450c40",
   "metadata": {},
   "outputs": [
    {
     "name": "stdout",
     "output_type": "stream",
     "text": [
      "42.8\n"
     ]
    }
   ],
   "source": [
    "print(karnataka_ages.mean())"
   ]
  },
  {
   "cell_type": "code",
   "execution_count": 34,
   "id": "e0f43880",
   "metadata": {},
   "outputs": [
    {
     "data": {
      "text/plain": [
       "Ttest_indResult(statistic=-1.6520555199745128, pvalue=0.10174489387942386)"
      ]
     },
     "execution_count": 34,
     "metadata": {},
     "output_type": "execute_result"
    }
   ],
   "source": [
    "stats.ttest_ind(a=kerala_ages,b=karnataka_ages, equal_var=False)"
   ]
  },
  {
   "cell_type": "code",
   "execution_count": null,
   "id": "61ce1ac8",
   "metadata": {},
   "outputs": [],
   "source": [
    "# significant level 5%"
   ]
  },
  {
   "cell_type": "code",
   "execution_count": 35,
   "id": "23d36b43",
   "metadata": {},
   "outputs": [],
   "source": [
    "#Paired T Test"
   ]
  },
  {
   "cell_type": "code",
   "execution_count": null,
   "id": "75117adb",
   "metadata": {},
   "outputs": [],
   "source": [
    "#A hospital want to test whether a weight loss drugs by checking the weights of the same group patients before \n",
    "# and after treatment"
   ]
  },
  {
   "cell_type": "code",
   "execution_count": 36,
   "id": "ecc1c383",
   "metadata": {},
   "outputs": [],
   "source": [
    "np.random.seed(11)\n",
    "before= stats.norm.rvs(scale=30,loc=250,size =100)\n",
    "after=before+stats.norm.rvs(scale=5,loc=-1.25, size=100)"
   ]
  },
  {
   "cell_type": "code",
   "execution_count": 38,
   "id": "e92e2f80",
   "metadata": {},
   "outputs": [],
   "source": [
    "weight_df=pd.DataFrame({\"weight_before\": before,\n",
    "                       \"weight_after\":after,\n",
    "                       \"weight_change\": after-before})"
   ]
  },
  {
   "cell_type": "code",
   "execution_count": 39,
   "id": "5c8a9e9d",
   "metadata": {},
   "outputs": [
    {
     "data": {
      "text/html": [
       "<div>\n",
       "<style scoped>\n",
       "    .dataframe tbody tr th:only-of-type {\n",
       "        vertical-align: middle;\n",
       "    }\n",
       "\n",
       "    .dataframe tbody tr th {\n",
       "        vertical-align: top;\n",
       "    }\n",
       "\n",
       "    .dataframe thead th {\n",
       "        text-align: right;\n",
       "    }\n",
       "</style>\n",
       "<table border=\"1\" class=\"dataframe\">\n",
       "  <thead>\n",
       "    <tr style=\"text-align: right;\">\n",
       "      <th></th>\n",
       "      <th>weight_before</th>\n",
       "      <th>weight_after</th>\n",
       "      <th>weight_change</th>\n",
       "    </tr>\n",
       "  </thead>\n",
       "  <tbody>\n",
       "    <tr>\n",
       "      <th>count</th>\n",
       "      <td>100.000000</td>\n",
       "      <td>100.000000</td>\n",
       "      <td>100.000000</td>\n",
       "    </tr>\n",
       "    <tr>\n",
       "      <th>mean</th>\n",
       "      <td>250.345546</td>\n",
       "      <td>249.115171</td>\n",
       "      <td>-1.230375</td>\n",
       "    </tr>\n",
       "    <tr>\n",
       "      <th>std</th>\n",
       "      <td>28.132539</td>\n",
       "      <td>28.422183</td>\n",
       "      <td>4.783696</td>\n",
       "    </tr>\n",
       "    <tr>\n",
       "      <th>min</th>\n",
       "      <td>170.400443</td>\n",
       "      <td>165.913930</td>\n",
       "      <td>-11.495286</td>\n",
       "    </tr>\n",
       "    <tr>\n",
       "      <th>25%</th>\n",
       "      <td>230.421042</td>\n",
       "      <td>229.148236</td>\n",
       "      <td>-4.046211</td>\n",
       "    </tr>\n",
       "    <tr>\n",
       "      <th>50%</th>\n",
       "      <td>250.830805</td>\n",
       "      <td>251.134089</td>\n",
       "      <td>-1.413463</td>\n",
       "    </tr>\n",
       "    <tr>\n",
       "      <th>75%</th>\n",
       "      <td>270.637145</td>\n",
       "      <td>268.927258</td>\n",
       "      <td>1.738673</td>\n",
       "    </tr>\n",
       "    <tr>\n",
       "      <th>max</th>\n",
       "      <td>314.700233</td>\n",
       "      <td>316.720357</td>\n",
       "      <td>9.759282</td>\n",
       "    </tr>\n",
       "  </tbody>\n",
       "</table>\n",
       "</div>"
      ],
      "text/plain": [
       "       weight_before  weight_after  weight_change\n",
       "count     100.000000    100.000000     100.000000\n",
       "mean      250.345546    249.115171      -1.230375\n",
       "std        28.132539     28.422183       4.783696\n",
       "min       170.400443    165.913930     -11.495286\n",
       "25%       230.421042    229.148236      -4.046211\n",
       "50%       250.830805    251.134089      -1.413463\n",
       "75%       270.637145    268.927258       1.738673\n",
       "max       314.700233    316.720357       9.759282"
      ]
     },
     "execution_count": 39,
     "metadata": {},
     "output_type": "execute_result"
    }
   ],
   "source": [
    "weight_df.describe()\n"
   ]
  },
  {
   "cell_type": "code",
   "execution_count": 40,
   "id": "4eb590b0",
   "metadata": {},
   "outputs": [
    {
     "data": {
      "text/plain": [
       "Ttest_relResult(statistic=2.5720175998568284, pvalue=0.011596444318439857)"
      ]
     },
     "execution_count": 40,
     "metadata": {},
     "output_type": "execute_result"
    }
   ],
   "source": [
    "stats.ttest_rel(a=before,b=after)"
   ]
  },
  {
   "cell_type": "code",
   "execution_count": 41,
   "id": "aa648104",
   "metadata": {},
   "outputs": [],
   "source": [
    "import numpy as np\n",
    "from scipy import stats"
   ]
  },
  {
   "cell_type": "code",
   "execution_count": 44,
   "id": "653a77df",
   "metadata": {},
   "outputs": [
    {
     "data": {
      "text/plain": [
       "1.9000000000000057"
      ]
     },
     "execution_count": 44,
     "metadata": {},
     "output_type": "execute_result"
    }
   ],
   "source": [
    "z_cal=(153.8-150)/2\n",
    "z_cal"
   ]
  },
  {
   "cell_type": "code",
   "execution_count": 45,
   "id": "50a55e86",
   "metadata": {},
   "outputs": [
    {
     "data": {
      "text/plain": [
       "-1.9599639845400545"
      ]
     },
     "execution_count": 45,
     "metadata": {},
     "output_type": "execute_result"
    }
   ],
   "source": [
    "z_crit_left=stats.norm.ppf(0.025)\n",
    "z_crit_left"
   ]
  },
  {
   "cell_type": "code",
   "execution_count": 46,
   "id": "f0047069",
   "metadata": {},
   "outputs": [
    {
     "data": {
      "text/plain": [
       "1.9599639845400545"
      ]
     },
     "execution_count": 46,
     "metadata": {},
     "output_type": "execute_result"
    }
   ],
   "source": [
    "z_crit_right=stats.norm.isf(0.025)\n",
    "z_crit_right"
   ]
  },
  {
   "cell_type": "code",
   "execution_count": 48,
   "id": "650522dc",
   "metadata": {},
   "outputs": [
    {
     "data": {
      "text/plain": [
       "0.024999999999999977"
      ]
     },
     "execution_count": 48,
     "metadata": {},
     "output_type": "execute_result"
    }
   ],
   "source": [
    "stats.norm.cdf(-1.9599639845400545)"
   ]
  },
  {
   "cell_type": "code",
   "execution_count": 49,
   "id": "bdf206e7",
   "metadata": {},
   "outputs": [
    {
     "data": {
      "text/plain": [
       "0.975"
      ]
     },
     "execution_count": 49,
     "metadata": {},
     "output_type": "execute_result"
    }
   ],
   "source": [
    "stats.norm.sf(-1.9599639845400545)"
   ]
  },
  {
   "cell_type": "code",
   "execution_count": 50,
   "id": "5ad621ea",
   "metadata": {},
   "outputs": [],
   "source": [
    "pvalue=2*stats.norm.sf(z_cal)"
   ]
  },
  {
   "cell_type": "code",
   "execution_count": 51,
   "id": "ea92dd4b",
   "metadata": {},
   "outputs": [
    {
     "data": {
      "text/plain": [
       "0.057433119632002864"
      ]
     },
     "execution_count": 51,
     "metadata": {},
     "output_type": "execute_result"
    }
   ],
   "source": [
    "pvalue"
   ]
  },
  {
   "cell_type": "code",
   "execution_count": 53,
   "id": "598e689c",
   "metadata": {},
   "outputs": [
    {
     "name": "stdout",
     "output_type": "stream",
     "text": [
      "failed to reject the Null Hypothesis\n"
     ]
    }
   ],
   "source": [
    "if(pvalue<0.05):\n",
    "    print(\"rejecting the Null Hypothesis\")\n",
    "else:\n",
    "    print(\"failed to reject the Null Hypothesis\")"
   ]
  }
 ],
 "metadata": {
  "kernelspec": {
   "display_name": "Python 3 (ipykernel)",
   "language": "python",
   "name": "python3"
  },
  "language_info": {
   "codemirror_mode": {
    "name": "ipython",
    "version": 3
   },
   "file_extension": ".py",
   "mimetype": "text/x-python",
   "name": "python",
   "nbconvert_exporter": "python",
   "pygments_lexer": "ipython3",
   "version": "3.9.7"
  }
 },
 "nbformat": 4,
 "nbformat_minor": 5
}
